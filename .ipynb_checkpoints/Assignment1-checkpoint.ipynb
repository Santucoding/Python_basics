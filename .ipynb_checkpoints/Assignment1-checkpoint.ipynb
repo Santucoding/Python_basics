{
 "cells": [
  {
   "cell_type": "markdown",
   "id": "24b6f660-33e3-4ff5-af96-5c6113b05d85",
   "metadata": {},
   "source": [
    "1. Explain the key features of Python that make it a popular choice for programming."
   ]
  },
  {
   "cell_type": "raw",
   "id": "6b72a1c5-53c1-4802-a83e-33b5df4645f2",
   "metadata": {},
   "source": [
    "\n",
    ">> Python is a highly popular programming language known for its simplicity and versatility. Here are some key features that contribute to its popularity:\n",
    "* Free and Open Source.\n",
    "* Easy to code. \n",
    "* Easy to Read. \n",
    "* Object-Oriented Language. \n",
    "* GUI Programming Support.\n",
    "* High-Level Language.\n",
    "* Large Community Support.\n",
    "* Easy to Debug."
   ]
  },
  {
   "cell_type": "markdown",
   "id": "31823ca6-5d68-4506-b06b-9791023ccc8e",
   "metadata": {},
   "source": [
    "2. Describe the role of predefined keywords in Python and provide examples of how they are used in a program."
   ]
  },
  {
   "cell_type": "raw",
   "id": "1948e7aa-b63a-45d0-8e4b-cb5d2f9dff58",
   "metadata": {},
   "source": [
    "\n",
    ">> Python Keywords are some predefined and reserved words in Python that have special meanings. Keywords are used to define the syntax of the coding. The keyword cannot be used as an identifier, function, or variable name. All the keywords in Python are written in lowercase except True and False.\n",
    "* Here is a list of some of the most commonly used Python keywords and examples of how they are used in a program:"
   ]
  },
  {
   "cell_type": "code",
   "execution_count": 1,
   "id": "5e7f0fab-ff17-4177-9eee-f098efce04da",
   "metadata": {},
   "outputs": [
    {
     "name": "stdout",
     "output_type": "stream",
     "text": [
      "x is positive\n"
     ]
    }
   ],
   "source": [
    "   # if, elif, else:\n",
    "   # Used for conditional statements to control the flow of the program.\n",
    "x = 10\n",
    "if x > 0:\n",
    "    print(\"x is positive\")\n",
    "elif x == 0:\n",
    "    print(\"x is zero\")\n",
    "else:\n",
    "    print(\"x is negative\")\n"
   ]
  },
  {
   "cell_type": "code",
   "execution_count": 5,
   "id": "acf0ce80-e3f1-46bc-92fd-c6b6a1e06a5d",
   "metadata": {},
   "outputs": [
    {
     "name": "stdout",
     "output_type": "stream",
     "text": [
      "0\n",
      "1\n",
      "2\n",
      "1\n",
      "2\n",
      "4\n",
      "5\n"
     ]
    }
   ],
   "source": [
    "  # for, while, break, continue:\n",
    "  # Used for creating loops. for is used for iterating over sequences, while while runs as long as a condition is true. break exits the loop, and continue skips the rest of the current loop iteration.\n",
    "for i in range(5):\n",
    "    if i == 3:\n",
    "        break\n",
    "    print(i)\n",
    "\n",
    "i = 0\n",
    "while i < 5:\n",
    "    i += 1\n",
    "    if i == 3:\n",
    "        continue\n",
    "    print(i)"
   ]
  },
  {
   "cell_type": "markdown",
   "id": "95909f75-83bf-4cf8-9aab-9fddf2b8599d",
   "metadata": {},
   "source": [
    "3. Compare and contrast mutable and immutable objects in Python with examples."
   ]
  },
  {
   "cell_type": "raw",
   "id": "d338e56a-ecb7-47b3-8001-80c9619dcf04",
   "metadata": {},
   "source": [
    "\n",
    ">> MUTABLE OBJECTS:-\n",
    "   Mutable objects are those whose state or contents can be changed after they are created. Common examples of mutable objects include lists, dictionaries, sets, and custom objects."
   ]
  },
  {
   "cell_type": "code",
   "execution_count": 6,
   "id": "73c14bd9-3423-4ead-b1aa-ccc49821c69e",
   "metadata": {},
   "outputs": [
    {
     "name": "stdout",
     "output_type": "stream",
     "text": [
      "[1, 2, 3]\n"
     ]
    }
   ],
   "source": [
    "# LIST:\n",
    "my_list = [1, 2, 3]\n",
    "print(my_list)"
   ]
  },
  {
   "cell_type": "code",
   "execution_count": 7,
   "id": "bcd89978-9e04-4c81-9eca-c1d2f18ae86e",
   "metadata": {},
   "outputs": [
    {
     "name": "stdout",
     "output_type": "stream",
     "text": [
      "[10, 2, 3]\n"
     ]
    }
   ],
   "source": [
    "my_list[0] = 10\n",
    "print(my_list) "
   ]
  },
  {
   "cell_type": "code",
   "execution_count": 8,
   "id": "d3fba719-5ede-46d1-b557-f637d6f93cef",
   "metadata": {},
   "outputs": [
    {
     "name": "stdout",
     "output_type": "stream",
     "text": [
      "{'a': 1, 'b': 2}\n"
     ]
    }
   ],
   "source": [
    "# Dictionary:\n",
    "my_dict = {'a': 1, 'b': 2}\n",
    "print(my_dict)"
   ]
  },
  {
   "cell_type": "code",
   "execution_count": 9,
   "id": "80ad8440-523b-47d1-8b0a-fd59e9b9eaf2",
   "metadata": {},
   "outputs": [
    {
     "name": "stdout",
     "output_type": "stream",
     "text": [
      "{'a': 10, 'b': 2}\n"
     ]
    }
   ],
   "source": [
    "my_dict['a'] = 10\n",
    "print(my_dict)"
   ]
  },
  {
   "cell_type": "code",
   "execution_count": 10,
   "id": "87cbffd1-3286-442f-af32-1d9b441f2300",
   "metadata": {},
   "outputs": [
    {
     "name": "stdout",
     "output_type": "stream",
     "text": [
      "{1, 2, 3}\n"
     ]
    }
   ],
   "source": [
    "# Set:\n",
    "my_set = {1, 2, 3}\n",
    "print(my_set)"
   ]
  },
  {
   "cell_type": "code",
   "execution_count": 11,
   "id": "5d55461e-a6d2-4d0f-8859-dfeec1b7efc9",
   "metadata": {},
   "outputs": [
    {
     "name": "stdout",
     "output_type": "stream",
     "text": [
      "{1, 2, 3, 4}\n"
     ]
    }
   ],
   "source": [
    "my_set.add(4)\n",
    "print(my_set)"
   ]
  },
  {
   "cell_type": "raw",
   "id": "70f84067-c017-4a63-b27a-d5b389a49f5e",
   "metadata": {},
   "source": [
    ">> IMMUTABLE OBJECTS:-\n",
    "   Immutable objects are those whose state or contents cannot be changed after they are created. Common examples of immutable objects include strings, tuples, and numbers (integers,        floats, etc.)"
   ]
  },
  {
   "cell_type": "code",
   "execution_count": 12,
   "id": "678d2cdc-691f-49a0-a920-7677afb46c72",
   "metadata": {},
   "outputs": [
    {
     "ename": "TypeError",
     "evalue": "'str' object does not support item assignment",
     "output_type": "error",
     "traceback": [
      "\u001b[0;31m---------------------------------------------------------------------------\u001b[0m",
      "\u001b[0;31mTypeError\u001b[0m                                 Traceback (most recent call last)",
      "Cell \u001b[0;32mIn[12], line 3\u001b[0m\n\u001b[1;32m      1\u001b[0m \u001b[38;5;66;03m# String:\u001b[39;00m\n\u001b[1;32m      2\u001b[0m name_1 \u001b[38;5;241m=\u001b[39m \u001b[38;5;124m\"\u001b[39m\u001b[38;5;124mAarun\u001b[39m\u001b[38;5;124m\"\u001b[39m \n\u001b[0;32m----> 3\u001b[0m \u001b[43mname_1\u001b[49m\u001b[43m[\u001b[49m\u001b[38;5;241;43m0\u001b[39;49m\u001b[43m]\u001b[49m \u001b[38;5;241m=\u001b[39m \u001b[38;5;124m'\u001b[39m\u001b[38;5;124mT\u001b[39m\u001b[38;5;124m'\u001b[39m \n",
      "\u001b[0;31mTypeError\u001b[0m: 'str' object does not support item assignment"
     ]
    }
   ],
   "source": [
    "# String:\n",
    "name_1 = \"Aarun\" \n",
    "name_1[0] = 'T' "
   ]
  },
  {
   "cell_type": "code",
   "execution_count": 13,
   "id": "9221414e-6135-48fd-a034-94c9a81658e2",
   "metadata": {},
   "outputs": [
    {
     "ename": "TypeError",
     "evalue": "'tuple' object does not support item assignment",
     "output_type": "error",
     "traceback": [
      "\u001b[0;31m---------------------------------------------------------------------------\u001b[0m",
      "\u001b[0;31mTypeError\u001b[0m                                 Traceback (most recent call last)",
      "Cell \u001b[0;32mIn[13], line 3\u001b[0m\n\u001b[1;32m      1\u001b[0m \u001b[38;5;66;03m# Tuple:\u001b[39;00m\n\u001b[1;32m      2\u001b[0m \u001b[38;5;28mtuple\u001b[39m \u001b[38;5;241m=\u001b[39m (\u001b[38;5;124m\"\u001b[39m\u001b[38;5;124mMeredith\u001b[39m\u001b[38;5;124m\"\u001b[39m, \u001b[38;5;124m\"\u001b[39m\u001b[38;5;124mLevi\u001b[39m\u001b[38;5;124m\"\u001b[39m, \u001b[38;5;124m\"\u001b[39m\u001b[38;5;124mWright\u001b[39m\u001b[38;5;124m\"\u001b[39m, \u001b[38;5;124m\"\u001b[39m\u001b[38;5;124mFranklin\u001b[39m\u001b[38;5;124m\"\u001b[39m)\n\u001b[0;32m----> 3\u001b[0m \u001b[38;5;28;43mtuple\u001b[39;49m\u001b[43m[\u001b[49m\u001b[38;5;241;43m1\u001b[39;49m\u001b[43m]\u001b[49m\u001b[38;5;241m=\u001b[39m \u001b[38;5;124m\"\u001b[39m\u001b[38;5;124mKristen\u001b[39m\u001b[38;5;124m\"\u001b[39m\n\u001b[1;32m      4\u001b[0m \u001b[38;5;28mprint\u001b[39m(\u001b[38;5;28mtuple\u001b[39m)\n",
      "\u001b[0;31mTypeError\u001b[0m: 'tuple' object does not support item assignment"
     ]
    }
   ],
   "source": [
    "# Tuple:\n",
    "tuple = (\"Meredith\", \"Levi\", \"Wright\", \"Franklin\")\n",
    "tuple[1]= \"Kristen\"\n",
    "print(tuple)"
   ]
  },
  {
   "cell_type": "markdown",
   "id": "20976a70-7046-4d5d-9964-564c1e145a02",
   "metadata": {},
   "source": [
    "4. Discuss the different types of operators in Python and provide examples of how they are used."
   ]
  },
  {
   "cell_type": "raw",
   "id": "cd1f9c34-0106-4cf9-8397-fedcbe012185",
   "metadata": {},
   "source": [
    "\n",
    ">> Python supports a variety of operators that perform operations on variables and values. These operators are categorized based on the type of operation they perform."
   ]
  },
  {
   "cell_type": "raw",
   "id": "8287184e-e352-41e8-83e8-8157c9a3b21f",
   "metadata": {},
   "source": [
    "1. Arithmetic Operators\n",
    " Arithmetic operators perform mathematical operations."
   ]
  },
  {
   "cell_type": "code",
   "execution_count": 15,
   "id": "114027c0-0e5f-4b45-a5c0-12225808c713",
   "metadata": {},
   "outputs": [
    {
     "name": "stdout",
     "output_type": "stream",
     "text": [
      "15\n"
     ]
    }
   ],
   "source": [
    "# Addition:-\n",
    "x = 10\n",
    "y = 5\n",
    "result = x + y\n",
    "print(result)"
   ]
  },
  {
   "cell_type": "code",
   "execution_count": 16,
   "id": "15111ff5-57da-475d-b75b-a5c8bed1a786",
   "metadata": {},
   "outputs": [
    {
     "name": "stdout",
     "output_type": "stream",
     "text": [
      "5\n"
     ]
    }
   ],
   "source": [
    "# Subtraction:-\n",
    "x = 10\n",
    "y = 5\n",
    "result = x - y\n",
    "print(result)"
   ]
  },
  {
   "cell_type": "code",
   "execution_count": 17,
   "id": "c17deca5-7484-4492-926a-43a0f9abf6bb",
   "metadata": {},
   "outputs": [
    {
     "name": "stdout",
     "output_type": "stream",
     "text": [
      "50\n"
     ]
    }
   ],
   "source": [
    "# Multiplication:-\n",
    "x = 10\n",
    "y = 5\n",
    "result = x * y\n",
    "print(result)"
   ]
  },
  {
   "cell_type": "code",
   "execution_count": 18,
   "id": "8afedaf5-562e-4c6d-ad16-605b886314f9",
   "metadata": {},
   "outputs": [
    {
     "name": "stdout",
     "output_type": "stream",
     "text": [
      "2.0\n"
     ]
    }
   ],
   "source": [
    "# Division:-\n",
    "x = 10\n",
    "y = 5\n",
    "result = x/y\n",
    "print(result)"
   ]
  },
  {
   "cell_type": "code",
   "execution_count": 19,
   "id": "b2b52498-3a3e-40ab-9d32-8a86541825d2",
   "metadata": {},
   "outputs": [
    {
     "name": "stdout",
     "output_type": "stream",
     "text": [
      "2\n"
     ]
    }
   ],
   "source": [
    "# Floor Division:-\n",
    "x = 10\n",
    "y = 5\n",
    "result = x//y\n",
    "print(result)"
   ]
  },
  {
   "cell_type": "code",
   "execution_count": 21,
   "id": "c6a8b20c-dbd4-4627-a6e3-9ec8e30aa24e",
   "metadata": {},
   "outputs": [
    {
     "name": "stdout",
     "output_type": "stream",
     "text": [
      "0\n"
     ]
    }
   ],
   "source": [
    "# Modulus:-\n",
    "x = 10\n",
    "y = 5\n",
    "result = x%y\n",
    "print(result)"
   ]
  },
  {
   "cell_type": "code",
   "execution_count": 22,
   "id": "00846af8-0f34-49ea-bee5-f8dd88f05d3b",
   "metadata": {},
   "outputs": [
    {
     "name": "stdout",
     "output_type": "stream",
     "text": [
      "100000\n"
     ]
    }
   ],
   "source": [
    "# Exponentiation:-\n",
    "x = 10\n",
    "y = 5\n",
    "result = x**y\n",
    "print(result)"
   ]
  },
  {
   "cell_type": "raw",
   "id": "056a8e52-f222-4335-9ddd-a9e5d9364395",
   "metadata": {},
   "source": [
    "2. Comparison Operators\n",
    "   Comparison operators compare two values and return a boolean result."
   ]
  },
  {
   "cell_type": "code",
   "execution_count": 23,
   "id": "d9673af6-8a86-4945-b8f3-d6c9769bc9bb",
   "metadata": {},
   "outputs": [
    {
     "name": "stdout",
     "output_type": "stream",
     "text": [
      "False\n"
     ]
    }
   ],
   "source": [
    "# Equal to:-\n",
    "x = 10\n",
    "y = 5\n",
    "result = x==y\n",
    "print(result)"
   ]
  },
  {
   "cell_type": "code",
   "execution_count": 24,
   "id": "31163c15-a7b5-447a-9b32-48fd9175f308",
   "metadata": {},
   "outputs": [
    {
     "name": "stdout",
     "output_type": "stream",
     "text": [
      "True\n"
     ]
    }
   ],
   "source": [
    "# Not equal to:-\n",
    "x = 10\n",
    "y = 5\n",
    "result = x!=y\n",
    "print(result)"
   ]
  },
  {
   "cell_type": "code",
   "execution_count": 25,
   "id": "8b68b8d0-ecf0-4045-96cc-a4da652f1e44",
   "metadata": {},
   "outputs": [
    {
     "name": "stdout",
     "output_type": "stream",
     "text": [
      "True\n"
     ]
    }
   ],
   "source": [
    "# Greater than:-\n",
    "x = 10\n",
    "y = 5\n",
    "result = x>y\n",
    "print(result)"
   ]
  },
  {
   "cell_type": "code",
   "execution_count": 26,
   "id": "282bbe77-5d75-4eeb-a6a9-16f9c71e08d3",
   "metadata": {},
   "outputs": [
    {
     "name": "stdout",
     "output_type": "stream",
     "text": [
      "False\n"
     ]
    }
   ],
   "source": [
    "# Less than:-\n",
    "x = 10\n",
    "y = 5\n",
    "result = x<y\n",
    "print(result)"
   ]
  },
  {
   "cell_type": "code",
   "execution_count": 27,
   "id": "6bf933c7-1a93-46f7-80bf-30098cbb3ba5",
   "metadata": {},
   "outputs": [
    {
     "name": "stdout",
     "output_type": "stream",
     "text": [
      "True\n"
     ]
    }
   ],
   "source": [
    "# Greater than or equal to:-\n",
    "x = 10\n",
    "y = 5\n",
    "result = x>=y\n",
    "print(result)"
   ]
  },
  {
   "cell_type": "code",
   "execution_count": 28,
   "id": "4c822483-80dd-45a5-ad0a-f46dd6fd9bd3",
   "metadata": {},
   "outputs": [
    {
     "name": "stdout",
     "output_type": "stream",
     "text": [
      "False\n"
     ]
    }
   ],
   "source": [
    "# Less than or equal to:-\n",
    "x = 10\n",
    "y = 5\n",
    "result = x<=y\n",
    "print(result)"
   ]
  },
  {
   "cell_type": "raw",
   "id": "fa333a54-3697-48de-9aed-d468ff2019df",
   "metadata": {},
   "source": [
    "3. Logical Operators\n",
    "   Logical operators perform logical operations and return a boolean result."
   ]
  },
  {
   "cell_type": "code",
   "execution_count": 29,
   "id": "fbb1636e-b81d-4fdf-a691-37d174524920",
   "metadata": {},
   "outputs": [
    {
     "name": "stdout",
     "output_type": "stream",
     "text": [
      "True\n"
     ]
    }
   ],
   "source": [
    "# And:-\n",
    "x = 10\n",
    "y = 5\n",
    "result = (x > y) and (x < 20)\n",
    "print(result)"
   ]
  },
  {
   "cell_type": "code",
   "execution_count": 30,
   "id": "209861a5-02a0-4c49-95fa-fb821479b0f4",
   "metadata": {},
   "outputs": [
    {
     "name": "stdout",
     "output_type": "stream",
     "text": [
      "True\n"
     ]
    }
   ],
   "source": [
    "# Or:-\n",
    "x = 10\n",
    "y = 5\n",
    "result = (x > y) or (x < 20)\n",
    "print(result)"
   ]
  },
  {
   "cell_type": "code",
   "execution_count": 31,
   "id": "1245d390-2c15-47b8-b9f1-24ffd30f5e30",
   "metadata": {},
   "outputs": [
    {
     "name": "stdout",
     "output_type": "stream",
     "text": [
      "True\n"
     ]
    }
   ],
   "source": [
    "# Not:-\n",
    "x = 10\n",
    "y = 5\n",
    "result = not(x < y)\n",
    "print(result)"
   ]
  },
  {
   "cell_type": "raw",
   "id": "629e00f2-4562-435d-8166-6865de2a4ae6",
   "metadata": {},
   "source": [
    "4. Assignment Operators\n",
    "Assignment operators are used to assign values to variables."
   ]
  },
  {
   "cell_type": "code",
   "execution_count": 32,
   "id": "5ed37142-16cd-4bb7-957d-46bede9c2d11",
   "metadata": {},
   "outputs": [],
   "source": [
    "# Assignment:-\n",
    "x = 10"
   ]
  },
  {
   "cell_type": "code",
   "execution_count": 34,
   "id": "bbae1a13-5df3-4205-bb71-95d5c5866a43",
   "metadata": {},
   "outputs": [
    {
     "name": "stdout",
     "output_type": "stream",
     "text": [
      "20\n"
     ]
    }
   ],
   "source": [
    "# add and assign:-\n",
    "x =10\n",
    "x +=10\n",
    "print(x)"
   ]
  },
  {
   "cell_type": "code",
   "execution_count": 35,
   "id": "ad879060-e5d6-46d3-b52c-af037a6e4a1c",
   "metadata": {},
   "outputs": [
    {
     "name": "stdout",
     "output_type": "stream",
     "text": [
      "0\n"
     ]
    }
   ],
   "source": [
    "# subtract and assign:-\n",
    "x =10\n",
    "x -=10\n",
    "print(x)"
   ]
  },
  {
   "cell_type": "code",
   "execution_count": 36,
   "id": "f3f4b483-9185-42db-93ae-20c48d219626",
   "metadata": {},
   "outputs": [
    {
     "name": "stdout",
     "output_type": "stream",
     "text": [
      "100\n"
     ]
    }
   ],
   "source": [
    "# multiply and assign:-\n",
    "x =10\n",
    "x *=10\n",
    "print(x)"
   ]
  },
  {
   "cell_type": "code",
   "execution_count": 37,
   "id": "4354dd6d-5dcd-40d3-aa9b-ae44b3d154d2",
   "metadata": {},
   "outputs": [
    {
     "name": "stdout",
     "output_type": "stream",
     "text": [
      "1.0\n"
     ]
    }
   ],
   "source": [
    "# divide and assign:-\n",
    "x =10\n",
    "x /=10\n",
    "print(x)"
   ]
  },
  {
   "cell_type": "code",
   "execution_count": 38,
   "id": "261567e1-ea22-4b7a-aa79-17b0a171fcd8",
   "metadata": {},
   "outputs": [
    {
     "name": "stdout",
     "output_type": "stream",
     "text": [
      "1\n"
     ]
    }
   ],
   "source": [
    "# Floor divide and assign:-\n",
    "x =10\n",
    "x //=10\n",
    "print(x)"
   ]
  },
  {
   "cell_type": "code",
   "execution_count": 39,
   "id": "46bb783d-0848-42b0-9785-7a42558307e4",
   "metadata": {},
   "outputs": [
    {
     "name": "stdout",
     "output_type": "stream",
     "text": [
      "0\n"
     ]
    }
   ],
   "source": [
    "# Modulus and assign:-\n",
    "x =10\n",
    "x %=10\n",
    "print(x)"
   ]
  },
  {
   "cell_type": "code",
   "execution_count": 40,
   "id": "7b52da41-d0e9-4ea3-af71-f915467f07f0",
   "metadata": {},
   "outputs": [
    {
     "name": "stdout",
     "output_type": "stream",
     "text": [
      "10000000000\n"
     ]
    }
   ],
   "source": [
    "# Exponentiation and assign:-\n",
    "x =10\n",
    "x **=10\n",
    "print(x)"
   ]
  },
  {
   "cell_type": "raw",
   "id": "c5770816-f023-4723-81c5-310d1767bdd8",
   "metadata": {},
   "source": [
    "5. Bitwise Operators\n",
    "   Bitwise operators perform bit-level operations on binary representations of    integers."
   ]
  },
  {
   "cell_type": "code",
   "execution_count": 41,
   "id": "616edd87-d756-4020-91c7-e951a2a6433b",
   "metadata": {},
   "outputs": [
    {
     "name": "stdout",
     "output_type": "stream",
     "text": [
      "1\n"
     ]
    }
   ],
   "source": [
    "# AND (&):-\n",
    "x = 5  \n",
    "y = 3  \n",
    "result = x & y \n",
    "print(result)"
   ]
  },
  {
   "cell_type": "code",
   "execution_count": 42,
   "id": "3e5e351e-1cfc-49f6-86da-711f742c9598",
   "metadata": {},
   "outputs": [
    {
     "name": "stdout",
     "output_type": "stream",
     "text": [
      "7\n"
     ]
    }
   ],
   "source": [
    "# OR (|):-\n",
    "x = 5  \n",
    "y = 3  \n",
    "result = x|y \n",
    "print(result)"
   ]
  },
  {
   "cell_type": "code",
   "execution_count": 43,
   "id": "ece254a3-cc56-4c9c-a9fb-fc70d0acdcb5",
   "metadata": {},
   "outputs": [
    {
     "name": "stdout",
     "output_type": "stream",
     "text": [
      "6\n"
     ]
    }
   ],
   "source": [
    "# XOR (^):-\n",
    "x = 5  \n",
    "y = 3  \n",
    "result = x^y \n",
    "print(result)"
   ]
  },
  {
   "cell_type": "code",
   "execution_count": 46,
   "id": "3c410026-6553-4431-a6c8-65131629d579",
   "metadata": {},
   "outputs": [
    {
     "name": "stdout",
     "output_type": "stream",
     "text": [
      "-6\n",
      "-4\n"
     ]
    }
   ],
   "source": [
    "# NOT (~):-\n",
    "x = 5  \n",
    "y = 3  \n",
    "result1 = ~x\n",
    "result2 = ~y\n",
    "print(result1)\n",
    "print(result2)"
   ]
  },
  {
   "cell_type": "code",
   "execution_count": 49,
   "id": "dda6e3cf-c461-4ea1-9e76-32a708d11e7d",
   "metadata": {},
   "outputs": [
    {
     "name": "stdout",
     "output_type": "stream",
     "text": [
      "20\n"
     ]
    }
   ],
   "source": [
    "# Left Shift (<<):-\n",
    "x = 5   \n",
    "result = x<<2\n",
    "print(result)"
   ]
  },
  {
   "cell_type": "code",
   "execution_count": 50,
   "id": "6116e384-d810-4ca4-bac9-d2aa62217ae7",
   "metadata": {},
   "outputs": [
    {
     "name": "stdout",
     "output_type": "stream",
     "text": [
      "1\n"
     ]
    }
   ],
   "source": [
    "# Right Shift (>>):-\n",
    "x = 5   \n",
    "result = x>>2\n",
    "print(result)"
   ]
  },
  {
   "cell_type": "raw",
   "id": "6974f9cb-b01e-4c9c-9fe3-eab459260722",
   "metadata": {},
   "source": [
    "6. Membership Operators\n",
    "   Membership operators check for membership in a sequence (like lists, strings, or tuples)."
   ]
  },
  {
   "cell_type": "code",
   "execution_count": 52,
   "id": "5d1a1b8d-0d7e-4726-8e7d-af3a1e7aac97",
   "metadata": {},
   "outputs": [
    {
     "name": "stdout",
     "output_type": "stream",
     "text": [
      "True\n"
     ]
    }
   ],
   "source": [
    "# In:-\n",
    "my_list = [1, 2, 3, 4, 5]\n",
    "result = 3 in my_list\n",
    "print(result)"
   ]
  },
  {
   "cell_type": "code",
   "execution_count": 53,
   "id": "6c09ad58-5eb8-426d-ba07-95de492444c6",
   "metadata": {},
   "outputs": [
    {
     "name": "stdout",
     "output_type": "stream",
     "text": [
      "True\n"
     ]
    }
   ],
   "source": [
    "# Not In:-\n",
    "my_list = [1, 2, 3, 4, 5]\n",
    "result = 6 not in my_list\n",
    "print(result)"
   ]
  },
  {
   "cell_type": "markdown",
   "id": "2f2cccdb-f5ca-4376-b6b4-df8f9f647003",
   "metadata": {},
   "source": [
    "5. Explain the concept of type casting in Python with examples."
   ]
  },
  {
   "cell_type": "raw",
   "id": "479ef1ad-d707-4d28-896d-515ea3071ba4",
   "metadata": {},
   "source": [
    ">> Type casting in Python refers to converting one data type to another. This can be useful when you need to perform operations that require operands    of the same type or when you want to take advantage of specific features of different data types. Python provides several built-in functions to        facilitate type casting.\n",
    "\n",
    "   Types of Type Casting\n",
    "   Implicit Type Casting:\n",
    "   Python automatically converts one data type to another without explicit instruction from the programmer. This typically occurs in expressions where    mixed data types are used.\n",
    "\n",
    "   Explicit Type Casting:\n",
    "   The programmer manually converts one data type to another using built-in functions."
   ]
  },
  {
   "cell_type": "code",
   "execution_count": 11,
   "id": "293e9870-a578-4c01-b59f-59e550566205",
   "metadata": {},
   "outputs": [
    {
     "name": "stdout",
     "output_type": "stream",
     "text": [
      "13.5\n",
      "<class 'float'>\n"
     ]
    }
   ],
   "source": [
    "# Implicit type casting\n",
    "x = 10   \n",
    "y = 3.5  \n",
    "\n",
    "result = x + y \n",
    "print(result)  \n",
    "print(type(result))  \n",
    "\n",
    "# In this example, Python automatically converts the integer x to a float to match the type of y, allowing the addition to be performed safely."
   ]
  },
  {
   "cell_type": "code",
   "execution_count": 2,
   "id": "a8e07b50-7181-48cc-93e0-7df60b3d2da9",
   "metadata": {},
   "outputs": [
    {
     "name": "stdout",
     "output_type": "stream",
     "text": [
      "123\n",
      "<class 'str'>\n"
     ]
    }
   ],
   "source": [
    "# Explicit type casting\n",
    "\n",
    "# 1. Integer to String:\n",
    "x = 123\n",
    "y = str(x)\n",
    "print(y)  \n",
    "print(type(y)) "
   ]
  },
  {
   "cell_type": "code",
   "execution_count": 3,
   "id": "30c385e9-4be9-4b48-877e-4c0d79f4a42b",
   "metadata": {},
   "outputs": [
    {
     "name": "stdout",
     "output_type": "stream",
     "text": [
      "456\n",
      "<class 'int'>\n"
     ]
    }
   ],
   "source": [
    "# 2. String to Integer:\n",
    "x = \"456\"\n",
    "y = int(x)\n",
    "print(y)  \n",
    "print(type(y))  "
   ]
  },
  {
   "cell_type": "code",
   "execution_count": 4,
   "id": "d9886402-d774-44f7-8fdd-40ca22621438",
   "metadata": {},
   "outputs": [
    {
     "name": "stdout",
     "output_type": "stream",
     "text": [
      "7\n",
      "<class 'int'>\n"
     ]
    }
   ],
   "source": [
    "# 3. Float to Integer:\n",
    "x = 7.89\n",
    "y = int(x)\n",
    "print(y)  \n",
    "print(type(y)) "
   ]
  },
  {
   "cell_type": "code",
   "execution_count": 5,
   "id": "ee931078-0c62-4d65-aa13-a2076349ece9",
   "metadata": {},
   "outputs": [
    {
     "name": "stdout",
     "output_type": "stream",
     "text": [
      "100.0\n",
      "<class 'float'>\n"
     ]
    }
   ],
   "source": [
    "# 4. Integer to Float:\n",
    "x = 100\n",
    "y = float(x)\n",
    "print(y)  \n",
    "print(type(y)) \n"
   ]
  },
  {
   "cell_type": "code",
   "execution_count": 6,
   "id": "5e40b42c-fc15-4386-a365-c1f7f434f90b",
   "metadata": {},
   "outputs": [
    {
     "name": "stdout",
     "output_type": "stream",
     "text": [
      "12.34\n",
      "<class 'float'>\n"
     ]
    }
   ],
   "source": [
    "# 5. String to Float:\n",
    "x = \"12.34\"\n",
    "y = float(x)\n",
    "print(y)\n",
    "print(type(y))  "
   ]
  },
  {
   "cell_type": "code",
   "execution_count": 7,
   "id": "f1b4d61e-42a2-4dc1-b6b3-0ae6a57f4c27",
   "metadata": {},
   "outputs": [
    {
     "name": "stdout",
     "output_type": "stream",
     "text": [
      "(1, 2, 3)\n",
      "<class 'tuple'>\n"
     ]
    }
   ],
   "source": [
    "# 6. List to Tuple:\n",
    "x = [1, 2, 3]\n",
    "y = tuple(x)\n",
    "print(y) \n",
    "print(type(y))  \n"
   ]
  },
  {
   "cell_type": "code",
   "execution_count": 8,
   "id": "0b8f17ab-b094-49c9-b5f4-4438847bc604",
   "metadata": {},
   "outputs": [
    {
     "name": "stdout",
     "output_type": "stream",
     "text": [
      "[4, 5, 6]\n",
      "<class 'list'>\n"
     ]
    }
   ],
   "source": [
    "# 7. Tuple to List:\n",
    "x = (4, 5, 6)\n",
    "y = list(x)\n",
    "print(y)  \n",
    "print(type(y)) "
   ]
  },
  {
   "cell_type": "code",
   "execution_count": 10,
   "id": "7535e34b-b8dd-4157-b91f-17a1235b4f77",
   "metadata": {},
   "outputs": [
    {
     "name": "stdout",
     "output_type": "stream",
     "text": [
      "{1, 2, 3}\n",
      "<class 'set'>\n"
     ]
    }
   ],
   "source": [
    "# 8. List to Set:\n",
    "x = [1, 2, 2, 3]\n",
    "y = set(x)\n",
    "print(y) \n",
    "print(type(y))  "
   ]
  },
  {
   "cell_type": "code",
   "execution_count": 12,
   "id": "043c2ddc-c00c-499f-8614-8b6f730d729f",
   "metadata": {},
   "outputs": [
    {
     "name": "stdout",
     "output_type": "stream",
     "text": [
      "['h', 'e', 'l', 'l', 'o']\n",
      "<class 'list'>\n"
     ]
    }
   ],
   "source": [
    "# 9. String to List:\n",
    "x = \"hello\"\n",
    "y = list(x)\n",
    "print(y) \n",
    "print(type(y))"
   ]
  },
  {
   "cell_type": "markdown",
   "id": "c98168e2-1dbc-482b-8ba7-0719f2d2210d",
   "metadata": {},
   "source": [
    "6.  How do conditional statements work in Python? Illustrate with examples."
   ]
  },
  {
   "cell_type": "raw",
   "id": "79e6d6ee-bc8d-4dfe-8bf1-0d01e92510de",
   "metadata": {},
   "source": [
    ">> Conditional Statements are statements in Python that provide a choice for the control flow based on a condition. It means that the control flow of    the Python program will be decided based on the outcome of the condition."
   ]
  },
  {
   "cell_type": "code",
   "execution_count": 13,
   "id": "2675261b-04ab-48e6-a769-1689290c86dd",
   "metadata": {},
   "outputs": [
    {
     "name": "stdout",
     "output_type": "stream",
     "text": [
      "10 greater than 5\n",
      "Program ended\n"
     ]
    }
   ],
   "source": [
    "# if statement:-\n",
    "#if condition:\n",
    "    # Statements to execute if\n",
    "    # condition is true\n",
    "if 10 > 5: \n",
    "    print(\"10 greater than 5\") \n",
    "print(\"Program ended\")     "
   ]
  },
  {
   "cell_type": "code",
   "execution_count": 14,
   "id": "87cc9817-d0ad-4903-99c4-1adb8d3ab258",
   "metadata": {},
   "outputs": [
    {
     "name": "stdout",
     "output_type": "stream",
     "text": [
      "No\n"
     ]
    }
   ],
   "source": [
    "# if else statement:-\n",
    "#if (condition):\n",
    "    # Executes this block if\n",
    "    # condition is true\n",
    "#else:\n",
    "    # Executes this block if\n",
    "    # condition is false\n",
    "x = 3\n",
    "if x == 4: \n",
    "    print(\"Yes\") \n",
    "else: \n",
    "    print(\"No\") "
   ]
  },
  {
   "cell_type": "code",
   "execution_count": 15,
   "id": "19a90f06-7e9d-4955-8fb2-873d602f4f3f",
   "metadata": {},
   "outputs": [
    {
     "name": "stdout",
     "output_type": "stream",
     "text": [
      "letter is A\n"
     ]
    }
   ],
   "source": [
    "# Nested if else statement:-\n",
    "letter = \"A\"\n",
    "  \n",
    "if letter == \"B\": \n",
    "    print(\"letter is B\") \n",
    "  \n",
    "else: \n",
    "  \n",
    "    if letter == \"C\": \n",
    "        print(\"letter is C\") \n",
    "  \n",
    "    else: \n",
    "  \n",
    "        if letter == \"A\": \n",
    "            print(\"letter is A\") \n",
    "  \n",
    "        else: \n",
    "            print(\"letter isn't A, B and C\") "
   ]
  },
  {
   "cell_type": "code",
   "execution_count": 16,
   "id": "f827f0b5-4f56-4ecc-9b8e-b8598825dccb",
   "metadata": {},
   "outputs": [
    {
     "name": "stdout",
     "output_type": "stream",
     "text": [
      "letter is A\n"
     ]
    }
   ],
   "source": [
    "# if elif else statement:-\n",
    "letter = \"A\"\n",
    "  \n",
    "if letter == \"B\": \n",
    "    print(\"letter is B\") \n",
    "  \n",
    "elif letter == \"C\": \n",
    "    print(\"letter is C\") \n",
    "  \n",
    "elif letter == \"A\": \n",
    "    print(\"letter is A\") \n",
    "  \n",
    "else: \n",
    "    print(\"letter isn't A, B or C\") "
   ]
  },
  {
   "cell_type": "markdown",
   "id": "c27fd5e3-9485-49fb-956b-f15ebc5655c8",
   "metadata": {},
   "source": [
    "7.  Describe the different types of loops in Python and their use cases with examples"
   ]
  },
  {
   "cell_type": "raw",
   "id": "771dc7d5-bae4-4bde-b836-413af706ffaf",
   "metadata": {},
   "source": [
    ">> There are two types of loops in python:-\n",
    "   1. While Loop\n",
    "   2. For Loop"
   ]
  },
  {
   "cell_type": "code",
   "execution_count": 18,
   "id": "ca0b6a12-6ede-401a-aeea-3dac3aaa3b90",
   "metadata": {},
   "outputs": [
    {
     "name": "stdout",
     "output_type": "stream",
     "text": [
      "Physicswallah\n",
      "Physicswallah\n",
      "Physicswallah\n"
     ]
    }
   ],
   "source": [
    "# While Loop\n",
    "# In Python, a while loop is used to execute a block of statements repeatedly until a given condition is satisfied. When the condition becomes false, the line immediately after the loop in the program is executed.\n",
    "count = 0\n",
    "while (count < 3):\n",
    "    count = count + 1\n",
    "    print(\"Physicswallah\")\n"
   ]
  },
  {
   "cell_type": "code",
   "execution_count": 20,
   "id": "90fe9f04-63fc-4819-9546-50839569465d",
   "metadata": {},
   "outputs": [
    {
     "name": "stdout",
     "output_type": "stream",
     "text": [
      "0\n",
      "1\n",
      "2\n",
      "3\n"
     ]
    }
   ],
   "source": [
    "# For Loop\n",
    "# In Python, the for loop is used to iterate over a sequence (such as a list, tuple, string, or range) and execute a block of code for each item in the sequence. The for loop is versatile and can be used for various types of iteration.\n",
    "n = 4\n",
    "for i in range(0, n):\n",
    "    print(i)"
   ]
  },
  {
   "cell_type": "code",
   "execution_count": null,
   "id": "bcfdc724-1b39-4867-93f2-59d2e890889d",
   "metadata": {},
   "outputs": [],
   "source": []
  }
 ],
 "metadata": {
  "kernelspec": {
   "display_name": "Python 3 (ipykernel)",
   "language": "python",
   "name": "python3"
  },
  "language_info": {
   "codemirror_mode": {
    "name": "ipython",
    "version": 3
   },
   "file_extension": ".py",
   "mimetype": "text/x-python",
   "name": "python",
   "nbconvert_exporter": "python",
   "pygments_lexer": "ipython3",
   "version": "3.10.8"
  }
 },
 "nbformat": 4,
 "nbformat_minor": 5
}
